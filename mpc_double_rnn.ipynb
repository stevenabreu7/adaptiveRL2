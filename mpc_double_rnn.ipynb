{
 "cells": [
  {
   "cell_type": "code",
   "execution_count": 4,
   "metadata": {},
   "outputs": [],
   "source": [
    "import os\n",
    "import numpy as np\n",
    "import pandas as pd\n",
    "from mpc_utils import load_train_test_data_27s, load_train_test_data"
   ]
  },
  {
   "cell_type": "code",
   "execution_count": 5,
   "metadata": {},
   "outputs": [
    {
     "data": {
      "text/plain": [
       "((200, 1350, 7), (200, 1350, 1), (25, 1350, 7), (25, 1350, 1), (200, 1350, 1))"
      ]
     },
     "execution_count": 5,
     "metadata": {},
     "output_type": "execute_result"
    }
   ],
   "source": [
    "x_train, y_train, x_test, y_test = load_train_test_data_27s(include_L=True)\n",
    "l_train, l_test = x_train[:, :, 7:], x_test[:, :, 7:]\n",
    "x_train, x_test = x_train[:, :, :7], x_test[:, :, :7]\n",
    "x_train.shape, y_train.shape, x_test.shape, y_test.shape, l_train.shape"
   ]
  },
  {
   "cell_type": "code",
   "execution_count": 6,
   "metadata": {},
   "outputs": [],
   "source": [
    "from models.lmu_torch import LMUModel\n",
    "import torch\n",
    "\n",
    "def train_model(x_train, y_train, x_test, y_test, input_size, hidden_size, memory_size, theta, epochs=100, batch_size=16, lr=1e-3, device='cpu'):\n",
    "    model = LMUModel(input_size=input_size, hidden_size=hidden_size, memory_size=memory_size, output_size=1, theta=theta, device=device)\n",
    "    model.to(device)\n",
    "    optimizer = torch.optim.Adam(model.parameters(), lr=lr)\n",
    "    loss = torch.nn.MSELoss()\n",
    "    n_batches = x_train.shape[0] // batch_size\n",
    "\n",
    "    for epoch in range(epochs+1):\n",
    "        # eval\n",
    "        if epoch % 50 == 0:\n",
    "            loss_train = []\n",
    "            for batch_idx in range(n_batches-1):\n",
    "                model.eval()\n",
    "                x = x_train[batch_idx*batch_size:(batch_idx+1)*batch_size]\n",
    "                y = y_train[batch_idx*batch_size:(batch_idx+1)*batch_size]\n",
    "                x = torch.tensor(x, dtype=torch.float32, device=device)\n",
    "                y = torch.tensor(y, dtype=torch.float32, device=device)\n",
    "                ypr = model(x)\n",
    "                loss_train.append(loss(ypr, y).item())\n",
    "            loss_test = []\n",
    "            for batch_idx in range(max(1, x_test.shape[0] // batch_size)):\n",
    "                model.eval()\n",
    "                x = x_test[batch_idx*batch_size:(batch_idx+1)*batch_size]\n",
    "                y = y_test[batch_idx*batch_size:(batch_idx+1)*batch_size]\n",
    "                x = torch.tensor(x, dtype=torch.float32, device=device)\n",
    "                y = torch.tensor(y, dtype=torch.float32, device=device)\n",
    "                ypr = model(x)\n",
    "                loss_test.append(loss(ypr, y).item())\n",
    "            print(epoch, 'train', np.array(loss_train).mean(), 'test', np.array(loss_test).mean())\n",
    "\n",
    "        # train\n",
    "        epoch_loss = []\n",
    "        model.train()\n",
    "        for batch_idx in range(n_batches-1):\n",
    "            x = x_train[batch_idx*batch_size:(batch_idx+1)*batch_size]\n",
    "            y = y_train[batch_idx*batch_size:(batch_idx+1)*batch_size]\n",
    "            x = torch.tensor(x, dtype=torch.float32, device=device)\n",
    "            y = torch.tensor(y, dtype=torch.float32, device=device)\n",
    "\n",
    "            optimizer.zero_grad()\n",
    "            y_pred = model(x)\n",
    "            l = loss(y_pred, y)\n",
    "            l.backward()\n",
    "            optimizer.step()\n",
    "\n",
    "            epoch_loss.append(l.item())\n",
    "\n",
    "        # log training loss\n",
    "        avg_epoch_loss = np.array(epoch_loss).mean()\n",
    "        if epoch % 10 == 0:\n",
    "            print(epoch, avg_epoch_loss)\n",
    "        else:\n",
    "            print(epoch, avg_epoch_loss, end='\\r')\n",
    "    return model"
   ]
  },
  {
   "cell_type": "code",
   "execution_count": 4,
   "metadata": {},
   "outputs": [
    {
     "name": "stdout",
     "output_type": "stream",
     "text": [
      "0 train 0.1053507687015967 test 0.09588231891393661\n",
      "0 0.09099637581543489\n",
      "10 0.02335170233114199\n",
      "20 0.012840221043337475\n",
      "30 0.009863007136366585\n",
      "40 0.009216473099182953\n",
      "50 train 0.009070090695538303 test 0.01331960316747427\n",
      "50 0.009083957496014509\n",
      "60 0.009032332169061357\n",
      "70 0.008989603766663508\n",
      "80 0.008944488257508387\n",
      "90 0.008893085643649101\n",
      "100 train 0.008791436483575539 test 0.01313480269163847\n",
      "100 0.008832149588587608\n"
     ]
    }
   ],
   "source": [
    "hidden_size = 64\n",
    "memory_size = 32\n",
    "theta = 16\n",
    "\n",
    "length_model = train_model(x_train, l_train, x_test, l_test, 7, hidden_size, memory_size, theta, epochs=100, batch_size=16, lr=1e-3)\n",
    "model_name = f'mpc_models/lmu_length_7-1-{hidden_size}-{memory_size}-{theta}.pt'\n",
    "torch.save(length_model.state_dict(), model_name)"
   ]
  },
  {
   "cell_type": "code",
   "execution_count": 9,
   "metadata": {},
   "outputs": [
    {
     "name": "stdout",
     "output_type": "stream",
     "text": [
      "0 train 0.49338705973191693 test 0.4251982569694519\n",
      "0 0.3003939932042902\n",
      "10 0.030197971246459267\n",
      "20 0.017432937398552895\n",
      "30 0.013452758758582851\n",
      "40 0.011286370117555965\n",
      "50 train 0.009826862337914381 test 0.011015781201422215\n",
      "50 0.009889701804654165\n",
      "60 0.008871115955778143\n",
      "70 0.008098993958397345\n",
      "80 0.0075436259450560265\n",
      "90 0.007089623715728521\n",
      "100 train 0.006654849614609371 test 0.007684497162699699\n",
      "100 0.006732017733156681\n",
      "110 0.0064287441359324885\n",
      "120 0.006165519145063378\n",
      "130 0.0059427381916479635\n",
      "140 0.0057501419108699665\n",
      "150 train 0.005503616719083352 test 0.006301489192992449\n",
      "150 0.005579321433536031\n",
      "160 0.0054474276998503644\n",
      "170 0.0052666694179854615\n",
      "180 0.0050775121304799214\n",
      "190 0.0049805663187395445\n",
      "200 train 0.0049021320459856224 test 0.005426288582384586\n",
      "200 0.004923061510040002\n",
      "210 0.0047615041786974125\n",
      "220 0.0046357327479530475\n",
      "230 0.004675860918888991\n",
      "240 0.004516785710372708\n",
      "250 train 0.004872065418484536 test 0.005519535858184099\n",
      "250 0.004748562583699822\n"
     ]
    }
   ],
   "source": [
    "xtrl = np.concatenate([x_train, l_train], axis=2)\n",
    "xtel = np.concatenate([x_test, l_test], axis=2)\n",
    "action_model_true_length = train_model(xtrl, y_train, xtel, y_test, 8, hidden_size, memory_size, theta, epochs=250, batch_size=16, lr=1e-3)\n",
    "model_name = f'mpc_models/lmu_action_true_7-1-{hidden_size}-{memory_size}-{theta}_250epochs.pt'\n",
    "torch.save(action_model_true_length.state_dict(), model_name)"
   ]
  },
  {
   "cell_type": "code",
   "execution_count": 14,
   "metadata": {},
   "outputs": [
    {
     "data": {
      "text/plain": [
       "<All keys matched successfully>"
      ]
     },
     "execution_count": 14,
     "metadata": {},
     "output_type": "execute_result"
    }
   ],
   "source": [
    "hidden_size = 64\n",
    "memory_size = 32\n",
    "theta = 16\n",
    "\n",
    "lmodel = LMUModel(input_size=7, output_size=1, hidden_size=hidden_size,\n",
    "                  memory_size=memory_size, theta=theta)\n",
    "lmodel.load_state_dict(torch.load('mpc_models/lmu_length_7-1-64-32-16.pt'))\n",
    "\n",
    "amodel = LMUModel(input_size=8, output_size=1, hidden_size=hidden_size,\n",
    "                  memory_size=memory_size, theta=theta)\n",
    "amodel.load_state_dict(torch.load('mpc_models/lmu_action_true_7-1-64-32-16_250epochs.pt'))"
   ]
  }
 ],
 "metadata": {
  "kernelspec": {
   "display_name": "mpclmu",
   "language": "python",
   "name": "python3"
  },
  "language_info": {
   "codemirror_mode": {
    "name": "ipython",
    "version": 3
   },
   "file_extension": ".py",
   "mimetype": "text/x-python",
   "name": "python",
   "nbconvert_exporter": "python",
   "pygments_lexer": "ipython3",
   "version": "3.11.4"
  },
  "orig_nbformat": 4
 },
 "nbformat": 4,
 "nbformat_minor": 2
}
